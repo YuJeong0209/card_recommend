{
 "cells": [
  {
   "cell_type": "code",
   "execution_count": 1,
   "id": "3e60870a-9702-4fee-b562-c933ded5595d",
   "metadata": {},
   "outputs": [
    {
     "name": "stdout",
     "output_type": "stream",
     "text": [
      "Requirement already satisfied: elasticsearch in /Library/Frameworks/Python.framework/Versions/3.11/lib/python3.11/site-packages (8.14.0)\n",
      "Requirement already satisfied: elastic-transport<9,>=8.13 in /Library/Frameworks/Python.framework/Versions/3.11/lib/python3.11/site-packages (from elasticsearch) (8.15.0)\n",
      "Requirement already satisfied: urllib3<3,>=1.26.2 in /Library/Frameworks/Python.framework/Versions/3.11/lib/python3.11/site-packages (from elastic-transport<9,>=8.13->elasticsearch) (2.2.2)\n",
      "Requirement already satisfied: certifi in /Library/Frameworks/Python.framework/Versions/3.11/lib/python3.11/site-packages (from elastic-transport<9,>=8.13->elasticsearch) (2024.7.4)\n"
     ]
    }
   ],
   "source": [
    "!pip install elasticsearch"
   ]
  },
  {
   "cell_type": "code",
   "execution_count": 3,
   "id": "678c3076-1c01-4a70-a3f7-c485ab70e082",
   "metadata": {},
   "outputs": [],
   "source": [
    "from datetime import datetime\n",
    "from elasticsearch import Elasticsearch\n",
    "\n",
    "es = Elasticsearch('http://localhost:9200')\n",
    "\n",
    "# 1. 인덱스, DOC 생성\n",
    "INDEX = 'test-index'\n",
    "\n",
    "doc = {\n",
    "    'author': '김연지',\n",
    "    'text': '첫번째 글입니다',\n",
    "    'timestamp': datetime.now(),\n",
    "}\n",
    "\n",
    "resp = es.index(index=INDEX, id=1, document=doc)"
   ]
  },
  {
   "cell_type": "code",
   "execution_count": 11,
   "id": "cc575f09-901c-454a-9b14-a3fed15b4bea",
   "metadata": {},
   "outputs": [
    {
     "name": "stdout",
     "output_type": "stream",
     "text": [
      "updated\n"
     ]
    }
   ],
   "source": [
    "print(resp['result'])\n",
    "# 생성한 index 는 다음 방식으로 확인할 수 있다.\n",
    "# !curl -XGET localhost:9200/_cat/indices?v\n",
    "# 지우는 법은 아래와 같다.\n",
    "# es.indices.delete(index=INDEX)\n",
    "\n",
    "# 검색\n",
    "# Query 만드는 방식이 다양하다.\n",
    "# 'match' 방식을 통해 완전 일치는 아니지만, 최대한 유사한 것을 찾는다.\n",
    "# 형태를 지켜야 하며, 'text' 라는 Key 는 데이터를 저장할 때 사용했던 Key 다.\n",
    "body = {\n",
    "        \"query\": {\n",
    "            \"match\": {\n",
    "                \"author\": \"김연지\",\n",
    "                'text': '첫번째'\n",
    "                    }\n",
    "                }\n",
    "            }"
   ]
  },
  {
   "cell_type": "code",
   "execution_count": 13,
   "id": "feaca113-67b4-4953-a218-ff38127452f2",
   "metadata": {},
   "outputs": [
    {
     "name": "stdout",
     "output_type": "stream",
     "text": [
      "match 쿼리 확인 {'took': 11, 'timed_out': False, '_shards': {'total': 1, 'successful': 1, 'skipped': 0, 'failed': 0}, 'hits': {'total': {'value': 1, 'relation': 'eq'}, 'max_score': 0.18232156, 'hits': [{'_index': 'test-index', '_id': '1', '_score': 0.18232156, '_source': {'author': '김연지', 'text': '첫번째 글입니다', 'timestamp': '2024-08-19T15:10:25.237099'}}]}}\n"
     ]
    }
   ],
   "source": [
    "# 검색\n",
    "# Query 만드는 방식이 다양하다.\n",
    "# 'match' 방식을 통해 완전 일치는 아니지만, 최대한 유사한 것을 찾는다.\n",
    "# 형태를 지켜야 하며, 'text' 라는 Key 는 데이터를 저장할 때 사용했던 Key 다.\n",
    "body = {\n",
    "        \"query\": {\n",
    "            \"match\": {\n",
    "                \"author\": \"김연지\"\n",
    "                #'text': '첫번째'\n",
    "                    }\n",
    "                }\n",
    "            }\n",
    "\n",
    "# POST text-index/_search\n",
    "# {\n",
    "#         \"query\": {\n",
    "#             \"match\": {\n",
    "#                 \"author\": \"김연지\"\n",
    "#                 #'text': '첫번째'\n",
    "#                     }\n",
    "#                 }\n",
    "#             }\n",
    "res = es.search(index=INDEX, body=body)\n",
    "print('match 쿼리 확인', res)"
   ]
  },
  {
   "cell_type": "code",
   "execution_count": 8,
   "id": "a851c74b-52e3-4219-9d31-e651504b6062",
   "metadata": {},
   "outputs": [
    {
     "data": {
      "text/plain": [
       "[{'_index': 'test-index',\n",
       "  '_id': '1',\n",
       "  '_score': 0.18232156,\n",
       "  '_source': {'author': '김연지',\n",
       "   'text': '첫번째 글입니다',\n",
       "   'timestamp': '2024-08-19T15:10:25.237099'}}]"
      ]
     },
     "execution_count": 8,
     "metadata": {},
     "output_type": "execute_result"
    }
   ],
   "source": [
    "res['hits']['hits']"
   ]
  },
  {
   "cell_type": "code",
   "execution_count": 10,
   "id": "01c16f9a-f33e-4f09-b634-7a8d96925efc",
   "metadata": {},
   "outputs": [
    {
     "data": {
      "text/plain": [
       "{'author': '김연지',\n",
       " 'text': '첫번째 글입니다',\n",
       " 'timestamp': '2024-08-19T15:10:25.237099'}"
      ]
     },
     "execution_count": 10,
     "metadata": {},
     "output_type": "execute_result"
    }
   ],
   "source": [
    "res['hits']['hits'][0]['_source']"
   ]
  },
  {
   "cell_type": "code",
   "execution_count": 14,
   "id": "63f39ac8-e987-493f-98ff-1f7018e06a6d",
   "metadata": {},
   "outputs": [
    {
     "name": "stdout",
     "output_type": "stream",
     "text": [
      "{'author': '김연지', 'text': '첫번째 글입니다', 'timestamp': '2024-08-19T15:10:25.237099'}\n"
     ]
    }
   ],
   "source": [
    "# 2. 인덱스 조회\n",
    "# -1. 간략 조회\n",
    "resp = es.get(index=\"test-index\", id=1)\n",
    "print(resp['_source'])"
   ]
  },
  {
   "cell_type": "code",
   "execution_count": 15,
   "id": "bc6fcb9b-c57f-4aef-8f83-7e048101391f",
   "metadata": {},
   "outputs": [
    {
     "name": "stdout",
     "output_type": "stream",
     "text": [
      "Got 1 Hits:\n",
      "2024-08-19T15:10:25.237099 김연지: 첫번째 글입니다\n"
     ]
    }
   ],
   "source": [
    "# -2. 특정 조건으로 조회\n",
    "resp = es.search(index=\"test-index\", query={\"match_all\": {}})\n",
    "print(\"Got %d Hits:\" % resp['hits']['total']['value'])\n",
    "for hit in resp['hits']['hits']:\n",
    "    print(\"%(timestamp)s %(author)s: %(text)s\" % hit[\"_source\"])"
   ]
  },
  {
   "cell_type": "code",
   "execution_count": 16,
   "id": "11a00de9-e308-453c-ae96-32d13d3e2a1c",
   "metadata": {},
   "outputs": [
    {
     "name": "stdout",
     "output_type": "stream",
     "text": [
      "updated\n",
      "{'author': '김연지2', 'text': '첫번째 글입니다', 'timestamp': '2024-08-19T15:16:14.698946'}\n"
     ]
    }
   ],
   "source": [
    "# 3. 인덱스 수정\n",
    "doc = {\n",
    "    'author': '김연지2',\n",
    "    'text': '첫번째 글입니다',\n",
    "    'timestamp': datetime.now(),\n",
    "}\n",
    "resp = es.index(index=\"test-index\", id=1, document=doc)\n",
    "print(resp['result'])\n",
    "# print(resp.keys())\n",
    "# print(resp['_shards'])\n",
    "\n",
    "resp = es.get(index=\"test-index\", id=1)\n",
    "print(resp['_source'])"
   ]
  },
  {
   "cell_type": "code",
   "execution_count": null,
   "id": "08a604c5-6fec-47e2-9913-f112a13a1ec3",
   "metadata": {},
   "outputs": [],
   "source": [
    "# 4. 인덱스 삭제\n",
    "resp = es.delete(index=\"test-index\", id=1)"
   ]
  },
  {
   "cell_type": "code",
   "execution_count": 17,
   "id": "7fed7929-9ceb-4617-82a0-bd18f700bb26",
   "metadata": {},
   "outputs": [
    {
     "data": {
      "text/plain": [
       "dict_keys(['_index', '_id', '_version', '_seq_no', '_primary_term', 'found', '_source'])"
      ]
     },
     "execution_count": 17,
     "metadata": {},
     "output_type": "execute_result"
    }
   ],
   "source": [
    "resp.keys()"
   ]
  },
  {
   "cell_type": "code",
   "execution_count": 19,
   "id": "570d69c5-2b89-44a0-a3dc-a8807411b105",
   "metadata": {},
   "outputs": [
    {
     "ename": "KeyError",
     "evalue": "'hits'",
     "output_type": "error",
     "traceback": [
      "\u001b[0;31m---------------------------------------------------------------------------\u001b[0m",
      "\u001b[0;31mKeyError\u001b[0m                                  Traceback (most recent call last)",
      "Cell \u001b[0;32mIn[19], line 1\u001b[0m\n\u001b[0;32m----> 1\u001b[0m resp[\u001b[38;5;124m'\u001b[39m\u001b[38;5;124mhits\u001b[39m\u001b[38;5;124m'\u001b[39m]\u001b[38;5;241m.\u001b[39mkeys()\n",
      "File \u001b[0;32m/opt/anaconda3/lib/python3.12/site-packages/elastic_transport/_response.py:185\u001b[0m, in \u001b[0;36mObjectApiResponse.__getitem__\u001b[0;34m(self, item)\u001b[0m\n\u001b[1;32m    184\u001b[0m \u001b[38;5;28;01mdef\u001b[39;00m \u001b[38;5;21m__getitem__\u001b[39m(\u001b[38;5;28mself\u001b[39m, item: \u001b[38;5;28mstr\u001b[39m) \u001b[38;5;241m-\u001b[39m\u001b[38;5;241m>\u001b[39m Any:\n\u001b[0;32m--> 185\u001b[0m     \u001b[38;5;28;01mreturn\u001b[39;00m \u001b[38;5;28mself\u001b[39m\u001b[38;5;241m.\u001b[39mbody[item]\n",
      "\u001b[0;31mKeyError\u001b[0m: 'hits'"
     ]
    }
   ],
   "source": [
    "resp['hits'].keys()"
   ]
  }
 ],
 "metadata": {
  "kernelspec": {
   "display_name": "ST",
   "language": "python",
   "name": "st"
  },
  "language_info": {
   "codemirror_mode": {
    "name": "ipython",
    "version": 3
   },
   "file_extension": ".py",
   "mimetype": "text/x-python",
   "name": "python",
   "nbconvert_exporter": "python",
   "pygments_lexer": "ipython3",
   "version": "3.12.4"
  }
 },
 "nbformat": 4,
 "nbformat_minor": 5
}
