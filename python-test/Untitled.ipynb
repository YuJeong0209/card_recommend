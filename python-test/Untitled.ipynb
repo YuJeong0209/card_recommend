{
 "cells": [
  {
   "cell_type": "code",
   "execution_count": 1,
   "id": "531bb8f5-9a7a-488a-aa0e-76f3618248de",
   "metadata": {},
   "outputs": [
    {
     "name": "stdout",
     "output_type": "stream",
     "text": [
      "Collecting elasticsearch-dsl\n",
      "  Downloading elasticsearch_dsl-8.15.0-py3-none-any.whl.metadata (11 kB)\n",
      "Requirement already satisfied: python-dateutil in /Library/Frameworks/Python.framework/Versions/3.11/lib/python3.11/site-packages (from elasticsearch-dsl) (2.9.0.post0)\n",
      "Requirement already satisfied: typing-extensions in /Library/Frameworks/Python.framework/Versions/3.11/lib/python3.11/site-packages (from elasticsearch-dsl) (4.12.2)\n",
      "Requirement already satisfied: elasticsearch<9.0.0,>=8.0.0 in /Library/Frameworks/Python.framework/Versions/3.11/lib/python3.11/site-packages (from elasticsearch-dsl) (8.14.0)\n",
      "Requirement already satisfied: elastic-transport<9,>=8.13 in /Library/Frameworks/Python.framework/Versions/3.11/lib/python3.11/site-packages (from elasticsearch<9.0.0,>=8.0.0->elasticsearch-dsl) (8.15.0)\n",
      "Requirement already satisfied: six>=1.5 in /Library/Frameworks/Python.framework/Versions/3.11/lib/python3.11/site-packages (from python-dateutil->elasticsearch-dsl) (1.16.0)\n",
      "Requirement already satisfied: urllib3<3,>=1.26.2 in /Library/Frameworks/Python.framework/Versions/3.11/lib/python3.11/site-packages (from elastic-transport<9,>=8.13->elasticsearch<9.0.0,>=8.0.0->elasticsearch-dsl) (2.2.2)\n",
      "Requirement already satisfied: certifi in /Library/Frameworks/Python.framework/Versions/3.11/lib/python3.11/site-packages (from elastic-transport<9,>=8.13->elasticsearch<9.0.0,>=8.0.0->elasticsearch-dsl) (2024.7.4)\n",
      "Downloading elasticsearch_dsl-8.15.0-py3-none-any.whl (104 kB)\n",
      "Installing collected packages: elasticsearch-dsl\n",
      "Successfully installed elasticsearch-dsl-8.15.0\n"
     ]
    }
   ],
   "source": [
    "!pip install elasticsearch-dsl"
   ]
  },
  {
   "cell_type": "code",
   "execution_count": 2,
   "id": "58525155-d704-4bbf-8f86-e85f4bbcf82a",
   "metadata": {},
   "outputs": [
    {
     "name": "stdout",
     "output_type": "stream",
     "text": [
      "Collecting elasticsearch-dsl\n",
      "  Using cached elasticsearch_dsl-8.15.0-py3-none-any.whl.metadata (11 kB)\n",
      "Requirement already satisfied: python-dateutil in /opt/anaconda3/lib/python3.12/site-packages (from elasticsearch-dsl) (2.9.0.post0)\n",
      "Requirement already satisfied: typing-extensions in /opt/anaconda3/lib/python3.12/site-packages (from elasticsearch-dsl) (4.11.0)\n",
      "Requirement already satisfied: elasticsearch<9.0.0,>=8.0.0 in /opt/anaconda3/lib/python3.12/site-packages (from elasticsearch-dsl) (8.14.0)\n",
      "Requirement already satisfied: elastic-transport<9,>=8.13 in /opt/anaconda3/lib/python3.12/site-packages (from elasticsearch<9.0.0,>=8.0.0->elasticsearch-dsl) (8.15.0)\n",
      "Requirement already satisfied: six>=1.5 in /opt/anaconda3/lib/python3.12/site-packages (from python-dateutil->elasticsearch-dsl) (1.16.0)\n",
      "Requirement already satisfied: urllib3<3,>=1.26.2 in /opt/anaconda3/lib/python3.12/site-packages (from elastic-transport<9,>=8.13->elasticsearch<9.0.0,>=8.0.0->elasticsearch-dsl) (2.2.2)\n",
      "Requirement already satisfied: certifi in /opt/anaconda3/lib/python3.12/site-packages (from elastic-transport<9,>=8.13->elasticsearch<9.0.0,>=8.0.0->elasticsearch-dsl) (2024.7.4)\n",
      "Using cached elasticsearch_dsl-8.15.0-py3-none-any.whl (104 kB)\n",
      "Installing collected packages: elasticsearch-dsl\n",
      "Successfully installed elasticsearch-dsl-8.15.0\n",
      "Note: you may need to restart the kernel to use updated packages.\n"
     ]
    }
   ],
   "source": [
    "pip install elasticsearch-dsl"
   ]
  },
  {
   "cell_type": "code",
   "execution_count": 3,
   "id": "25c87ff4-61ff-4cac-b1e0-7886d8176e1c",
   "metadata": {},
   "outputs": [
    {
     "name": "stdout",
     "output_type": "stream",
     "text": [
      "updated\n"
     ]
    }
   ],
   "source": [
    "# https://elasticsearch-dsl.readthedocs.io/en/latest/search_dsl.html\n",
    "# https://danthetech.netlify.app/Backend/advanced-tutorial-of-elasticsearch-dsl\n",
    "\n",
    "from datetime import datetime\n",
    "from elasticsearch import Elasticsearch\n",
    "from elasticsearch_dsl import Search\n",
    "\n",
    "client = Elasticsearch('http://localhost:9200')\n",
    "\n",
    "# 1. 인덱스, DOC 생성\n",
    "INDEX = 'test-index'\n",
    "doc = {\n",
    "    'author': '김연지',\n",
    "    'text': '첫번째 글입니다',\n",
    "    'timestamp': datetime.now(),\n",
    "}\n",
    "resp = client.index(index=INDEX, id=1, document=doc)\n",
    "print(resp['result'])\n",
    "\n"
   ]
  },
  {
   "cell_type": "code",
   "execution_count": 4,
   "id": "5384aeab-f9ff-40b9-a8cc-bd1a4dd519c4",
   "metadata": {},
   "outputs": [],
   "source": [
    "# 2. 인덱스 조회\n",
    "s = Search(using=client)\n",
    "\n"
   ]
  },
  {
   "cell_type": "code",
   "execution_count": 5,
   "id": "784db789-a295-4279-905d-5523e2361b69",
   "metadata": {},
   "outputs": [
    {
     "data": {
      "text/plain": [
       "<elasticsearch_dsl._sync.search.Search at 0x10c9f12e0>"
      ]
     },
     "execution_count": 5,
     "metadata": {},
     "output_type": "execute_result"
    }
   ],
   "source": [
    "s.query(\"match\", author=\"김연지\")"
   ]
  },
  {
   "cell_type": "code",
   "execution_count": 6,
   "id": "d9caedc6-61cd-4951-b605-281dcac3c228",
   "metadata": {},
   "outputs": [],
   "source": [
    "response = s.execute()"
   ]
  },
  {
   "cell_type": "code",
   "execution_count": 7,
   "id": "551fa586-9167-4b18-824b-70328b526145",
   "metadata": {},
   "outputs": [
    {
     "data": {
      "text/plain": [
       "{'id': 0,\n",
       " 'card_name': '카드의정석 EVERY MILE SKYPASS',\n",
       " 'card_link': 'https://card-gorilla.com/card/detail/2553',\n",
       " 'card_type': 1,\n",
       " 'domestic_year_cost': '없음',\n",
       " 'abroad_year_cost': '39,000원',\n",
       " 'previous_month_performance': '없음',\n",
       " 'category': [{'class': '대한항공',\n",
       "   'benefit': 'SKYPASS 최대 2마일리지 적립',\n",
       "   'condition': '<p><strong>SKYPASS 마일리지 적립</strong></p><!-- 표1 --><table border=\"0\" cellpadding=\"0\" cellspacing=\"0\" class=\"b-table\" width=\"100%\"><tbody><tr><td class=\"b-table-top\" colspan=\"2\">구분</td><td class=\"b-table-top\" style=\"border-top: 1px solid #777;\">적립 마일</td><td class=\"b-table-top\" style=\"border-top: 1px solid #777;\">월 적립한도</td></tr><tr><td class=\"b-table\"><strong>기본</strong></td><td class=\"b-table-br\">국내외 가맹점</td><td align=\"center\">1마일</td><td align=\"center\">제한 없음</td></tr><tr><td class=\"b-table\"><strong>추가</strong></td><td class=\"b-table-br\">해외 가맹점</td><td align=\"center\">1마일</td><td align=\"center\">1천 마일</td></tr></tbody></table><p>- 추가 적립한도는 본인+가족카드 합산기준, 이를 초과한 금액은 기본 적립만 적용</p><p>- 이용금액 1천원당 SKYPASS 1마일리지 적립</p>'},\n",
       "  {'class': '수수료우대',\n",
       "   'benefit': '해외수수료 면제',\n",
       "   'condition': '<p><strong>해외수수료 면제</strong></p><p>- 국제브랜드사 수수료 1% 면제</p><p>- 해외이용 수수료 0.3% 면제</p><p><br></p><p><strong>해외수수료 면제 서비스 유의사항</strong></p><p>- 해외 가맹점에서 원화로 결제하면 추가 수수료가 발생할 수 있으므로 현지통화로 결제하는 것이 유리함.</p><p>- 해외 이용 관련 자세한 내용은 해외이용 안내를 확인</p>'},\n",
       "  {'class': '공항라운지',\n",
       "   'benefit': '국내 공항라운지 동반 1인까지 무료 이용',\n",
       "   'condition': '<p><strong>국내 공항라운지 무료이용</strong></p><p>- 연 2회 제공 (동반 1인 동시 이용가능)</p><p>- 본인회원 전월 국내가맹점 이용실적 50만원 이상 시 제공(카드 사용개시월 이용실적 충족 시 다음월부터 이용 가능)</p><p><br></p><p><strong>국내 이용 가능 라운지</strong></p><!-- 표2 --><table border=\"0\" cellpadding=\"0\" cellspacing=\"0\" class=\"b-table\" width=\"100%\"><tbody><tr class=\"b-table-top\"><td class=\"b-table-top\" colspan=\"2\">인천공항</td><td class=\"b-table-top\">김포공항</td><td class=\"b-table-top\">김해공항</td></tr><tr><td class=\"b-table\"><strong>1터미널</strong></td><td class=\"b-table-br\">SKYHUB, Matina</td><td align=\"center\" rowspan=\"2\">국제선 SKY HUB</td><td align=\"center\" rowspan=\"2\">국제선 SKY HUB</td></tr><tr><td class=\"b-table\"><strong>2터미널</strong></td><td class=\"b-table-br\">Matina, 라운지L, SPC라운지</td></tr></tbody></table><p><br></p><p><strong>이용방법</strong></p><p>- \\'더 라운지(THE LOUNGE)\\' 앱 설치 후 이용가능</p><p>- 회원가입 ▶ 로그인 ▶ 신용/체크카드 ▶ 카드등록(최초 1회만 등록) ▶ 이용권 받기 ▶ 이용권 발급 확인 ▶ 각 서비스 이용</p><p>- 발급된 이용권은 \\'마이페이지 이용권 보관함\\'에 자동 저장되어 발급 후 24시간까지 유효하며, 미사용 시 자동 취소 및 이용 가능 횟수 자동 복구</p><p>- 발급된 이용권은 현금으로 교환되지 않음</p><p>- 서비스 관련 상세한 내용은 더라운지 앱/홈페이지(www.theloungemembers.com) 또는 고객센터(02-2664-7436) 참조</p><p><br></p><p><strong>유의사항</strong></p><p>- 본인회원만 제공 (가족회원 제공 불가)</p><p>- 라운지 입장 시 카드의정석 EVERY MILE SKYPASS 카드와 여권, 당일 출발 항공권 제시</p><p>- 본인+동반1인 이용 시 더라운지 앱 내 라운지 이용 인원을 2명으로 선택해서 이용권 발급</p><p>- 공항라운지 잔여 횟수 부족 시 이용권 발급이 불가능합니다.<br>&nbsp; 예시) 1. 본인+동반1인 이용가능 (2회 차감) &nbsp;2. 본인 1회 이용 후(1회 차감) 본인 1회 이용 가능(1회 차감) &nbsp;3. 본인 1회 이용 후(1회 차감) 본인+동반1인(2회차감) 불가 (연 2회 초과)</p><p>- 국내 공항라운지 무료이용 서비스 사용 후 카드 해지 시 연회비 환불되지 않음.</p><p>- 본인회원권 동반 1인을 포함하여 무료이용(본인회원 단독사용, 동반인 단독사용 불가)</p>'},\n",
       "  {'class': '유의사항',\n",
       "   'benefit': '꼭 확인하세요!',\n",
       "   'condition': '<p><strong>실적 산정 방법 안내</strong></p><p>- 전월실적은 전월 1일부터 말일(매출승인일 기준)까지 카드별 가맹점 이용실적이며, &nbsp;교통카드 이용금액 및 통신료 자동이체 금액은 매출표 접수일 기준으로 해당월 이용금액에 합산 적용됩니다.</p><p>- <u>아파트관리비(임대료), 정부지원금(보육료, 유치원보조비, 바우처 이용금액 등), 대학(대학원)등록금, 국세, 지방세, 공공요금(공과금)*, 상품권·기프트카드·선불카드 구매 및 충전금액, 교통카드(모바일 포함) 구매 및 충전 금액, 고속버스(차내 단말기 및 고속버스 APP 결제), 각종 수수료 및 이자, 연회비, 단기카드대출(현금서비스), 장기카드대출(카드론), 무이자 할부금액, 매출취소금액, 해외가맹점 이용금액은 전월 실적에 포함되지 않습니다.<br>&nbsp; * 공공요금(공과금) 내역: 4대보험(건강보험/국민연금/고용보험/산재보험), 전기요금, 우편요금, 도시가스요금, 상하수도요금, 과태료·범칙금·벌금, 여권발급비용, 국가·공공기관·공공단체(지방자치단체 등)로 개설된 가맹점 이용금액</u></p><p>- 적립서비스 등 부가서비스의 월 한도는 전월 이용실적에 따라 당월 1일~말일까지 적용됩니다. 단, 서비스 제공은 거래(매입) 순서대로 적용됩니다.</p><p>- 취소 매출은 취소매출표 접수월 이용실적에서 차감합니다.(단, 국내가맹점 취소 매출이 매월 1~2일 사이에 접수된 경우 전월 이용실적에서 차감합니다.)<br>&nbsp; 예) 1월 31일 이용건 취소 시 2월 2일까지 취소매출표가 카드사에 접수된 경우에는 1월 이용실적에서 차감, 이후 접수된 경우는 2월 이용실적에서 차감</p><p><br></p><p><strong>마일리지 적립안내</strong></p><p>- 마일리지는 결제월 기본적립/추가적립 대상거래의 총 결제금액(적립제외 대상 금액 제외)을 각각 마일리지 적립 단위금액 1,000원으로 나누고, 소수점 첫째 자리에서 반올림하여 결제일 D+3 영업일 이내 적립</p><p>- 유이자할부는 1회차 결제월에 할부매출 전체금액(할부이자 제외)에 대하여 적립</p><p>- 가족카드 이용금액의 마일리지는 본인회원에게 합산 적립</p><p>- 항공마일리지 사용/소멸 정책은 항공사의 마일리지 운영기준을 따름</p><p><br></p><p><strong>적립 제공 시 유의사항</strong></p><p>- <u>적립 제외 : 무이자할부금액, 정부지원금(보육료, 유치원보조비, 바우처 이용금액 등), 대학(대학원) 등록금, 국세, 지방세, 공공요금(공과금)*, 상품권/선불카드/기프트카드 구매 및 충전 금액, 아파트관리비(임대료), 고속버스(차내 단말기 및 고속버스APP결제), 교통카드(모바일 포함) 구매 및 충전금액, 각종 수수료 및 이자, 연회비, 단기카드대출(현금서비스), 장기카드대출(카드론), 매출취소금액, 당사에서 제공하는 각종 이벤트의 혜택을 적용받은 매출(단, 이벤트 별로 다를 수 있으니 각 안내 문구 참조)</u><br><u>* 공공요금(공과금)내역: 4대보험(건강보험/국민연금/고용보험/산재보험), 전기요금, 도시가스요금, 우편요금, 상하수도요금, 과태료·범칙금·벌금, 여권발급비용, 국가·공공기관·공공단체(지방자치단체 등)로 개설된 가맹점 이용금액</u></p><p>- 대한항공 마일리지 적립서비스는 본인회원/가족회원 각각 동일하게 제공됩니다.</p><p>- 적립 및 제외 업종/가맹점은 우리카드 전산상 등록 기준임</p><p><br></p><p><strong>연회비 안내</strong></p><!-- 표3 --><table border=\"0\" cellpadding=\"0\" cellspacing=\"0\" class=\"b-table\" width=\"100%\"><tbody><tr class=\"b-table-top\"><td class=\"b-table-top\">&nbsp;</td><td class=\"b-table-top\">해외겸용(MasterCard)</td></tr><tr><td class=\"b-table\"><strong>본인카드</strong></td><td class=\"b-table-br\">39,000원 (기본연회비 7,000원 + 제휴연회비 32,000원)</td></tr><tr><td class=\"b-table\"><strong>가족카드</strong></td><td class=\"b-table-br\">19,000원 (기본연회비 7,000원 + 제휴연회비 12,000원)</td></tr></tbody></table><p>- 연회비는 카드발급시점을 기준으로 1년 단위로 청구됩니다.</p><p>- 연회비(기본연회비+제휴연회비)는 카드별로 청구됩니다.</p><p>- <u>회원이 유효기간이 도래하기 전에 카드를 해지하는 경우, 연회비 반환 금액은 회원이 카드사와 계약을 해지한 날부터 일할계산(회원이 카드 이용이 가능하게 된 날을 기준으로 계산한다.)하여 산정합니다. 단, 카드 발행 및 배송에 소요된 비용(신규 가입년도의 연회비에 한정)은 반환금액에서 제외되며, 제휴연회비가 있는 경우에는 카드 이용 시 제공되는 추가적인 혜택 등 부가서비스 제공에 소요된 비용이 추가적으로 반환금액에서 제외됩니다.</u></p><p>- 연회비 반환은 계약을 해지한 날로부터 10영업일 이내에 반환하여 드립니다. 다만, 불가피한 사유로 10영업일 이내에 반환하기 어려운 경우 계약 해지한 날로부터 3개월 이내에 반환할 수 있습니다.</p><p><br></p><p><strong>가족카드 안내</strong></p><p>- 가족카드 연회비는 각 상품별 연회비 부과 기준을 따르며 가족카드 발급매수에는 제한이 없습니다.</p><p>- 가족카드 연말정산 시 가족카드의 신용카드 등 사용금액은 가족카드 명의자(카드전면 또는 후면에 표기된 이름)의 신용카드 등 사용금액으로 포함됩니다. 연간 소득금액 기준은 국세청 기준에 따릅니다.</p><p>- 본인회원이 가족회원의 카드사용 내역에 대한 알림을 받고자 하는 경우 우리카드 상담센터(1588-9955)에서 별도 신청하여야 합니다.</p><p>- 가족카드의 이용대금명세서는 본인회원이 지정한 주소와 방법으로 발송됩니다.</p><p>- 가족카드 이용으로 적립된 마일리지는 본인회원의 마일리지에 합산되어 관리됩니다.&nbsp;</p><p>- 가족카드의 추가적립 월 한도는 본인카드와 통합 관리됩니다.&nbsp;</p><p>- 이혼, 사망, 파양 등 가족관계 변동 시 본인회원 또는 가족회원이 우리은행 영업점, 우리카드 고객센터(1588-9955), 우리카드 홈페이지 및 모바일앱(MY ▶ 내 카드관리 ▶ 분실신고/재발급/해지 ▶ 일시정지/해제 또는 카드해지/취소)을 통해 가족카드 정지 또는 해지 가능합니다.</p><p>- 가족관계 변동이 되었음에도 가족카드를 정지 또는 해지하지 않은 경우 본인회원에게 의도하지 않은 카드사용 및 책임이 발생할 수 있습니다.</p><p>- 본인회원이 요청할 경우 가족회원의 동의 없이 가족카드가 한도감액/정지/해지될 수 있습니다.</p><p><br></p><p><strong>해외이용 안내</strong></p><p>- 카드의정석 EVERY MILE SKYPASS 카드로 해외 이용 시(해외사이트거래 포함) 미화(USD) 기준 거래미화 금액에 접수일의 우리은행 최초고시 전신환 매도율을 적용한 후 원화로 청구되며, 국제브랜드사가 부과하는 국제브랜드수수료(Mastercard 1%)와 우리카드가 부과하는 해외 서비스수수료(0.3%)가 면제됩니다.</p><p>- ATM 예금인출 시에는 인출금액에 대한 미화 환산금액에 국제브랜드수수료(Mastercard 1%)와 거래건당 $3의 해외예금인출 수수료를 포함하여 예금인출 시점의 우리은행 최초 고시 전신환매도율을 적용한 금액이 출금됩니다.</p><p>- 해외에서 원화로 결제 시, 해외 가맹점에서 현지통화를 원화로 전환하는 과정에서 추가 수수료를 부과하는 경우가 있으니 해외에서는 원화가 아닌 ‘현지통화’로 결제하시길 권장해드립니다. (우리카드 홈페이지 ▶ 이용안내 ▶ 해외이용가이드 ▶ 해외이용안내 참고)</p><p>- 해외원화결제차단 서비스 설정 방법: 우리카드 홈페이지/모바일앱/모바일웹 MY ▶ 해외이용설정 ▶ 해외이용 등록/해제 ▶ 해외사용정지 ▶ 해외원화결제차단</p><p>- 국가별 상황에 따라 일부 가맹점 및 ATM에서 단기카드대출(현금서비스) 이용이 어려울 수 있으니, 대체 결제수단을 소지하시기 바랍니다</p><p>- 해외 이용 시 청구금액 산출방법: 해외 이용 시 청구금액 = (거래미화금액×전신환 매도율①) + 국제브랜드 수수료② + 해외서비스 수수료③<br>&nbsp; ① 전신환 매도율 : 접수일의 우리은행 최초고시 전신환 매도율<br>&nbsp; ② 국제브랜드 수수료 = (거래미화금액×국제브랜드 이용수수료율 1%) ×전신환 매도율<br>&nbsp; ③ 해외서비스 수수료 = (거래미화금액×해외서비스 수수료율 0.3%)×전신환 매도율</p><p>- 일부 해외 가맹점 거래 시 IC칩 비밀번호(PIN) 를 요구하는 경우가 있으므로 출국 전 반드시 IC칩 비밀번호(PIN) 등록 여부를 확인하시기 바랍니다.</p><p>- 일부 비표준화된 해외 가맹점 및 ATM은 비밀번호(PIN) 입력 시 6자리를 요구할 수도 있습니다. ‘카드비밀번호 4자리 + 00’을 입력하여 사용하시기 바랍니다.</p><p><br></p><p><strong>상품 출시일 및 부가서비스 변경 안내</strong></p><p>- 상품 출시일 : 2023년 7월 24일</p><p>- 카드 이용 시 제공되는 마일리지 적립 등의 부가서비스는 카드 신규 출시 이후 3년 이상 축소·폐지 없이 유지됩니다.</p><p>- 상기에도 불구하고, 다음과 같은 사유가 발생한 경우 카드사는 부가서비스를 변경할 수 있습니다.<br>&nbsp; ① 카드사의 휴업·파산·경영상의 위기 등에 따른 불가피한 경우<br>&nbsp; ② 제휴업체의 휴업·파산·경영상의 위기로 인해 불가피하게 부가서비스를 축소·변경하는 경우로서 다른 제휴업체를 통해 동종의 유사한 부가서비스 제공이 불가한 경우<br>&nbsp; ③ 제휴업체가 카드사의 의사에 반하여 해당 부가서비스를 축소하거나 변경 시, 당초 부가서비스에 상응하는 다른 부가서비스를 제공하는 경우<br>&nbsp; ④ 부가서비스를 3년 이상 제공한 상태에서 해당 부가서비스로 인해 상품의 수익성이 현저히 낮아진 경우</p><p>- 카드사가 부가서비스를 변경하는 경우 변경 사유, 변경내용 등을 아래와 같은 방법으로 사유 발생 즉시 고지하여 드립니다. 다만, 위 ④번 사유로 부가서비스를 변경하는 경우 변경일 6개월 이전부터 매월 고지하여 드립니다.</p><p>- 고지방법 : 서면 교부, 우편 또는 전자우편, 전화 또는 팩스, 휴대폰 메시지 또는 이에 준하는 전자적 의사표시 중 2가지 이상의 방법</p>'}]}"
      ]
     },
     "execution_count": 7,
     "metadata": {},
     "output_type": "execute_result"
    }
   ],
   "source": [
    "response[0].to_dict()"
   ]
  },
  {
   "cell_type": "code",
   "execution_count": null,
   "id": "32323e76-891a-47e9-8ca4-947837652fce",
   "metadata": {},
   "outputs": [],
   "source": [
    "s = Search(index=INDEX).using(client).query(\"match\", author=\"김연지\")\n",
    "print(s.to_dict())\n",
    "response = s.execute()\n",
    "print('인덱스 조회 결과', response[0].to_dict())\n",
    "print()\n",
    "\n",
    "# 2. 다중 조건으로 조회\n",
    "# {\"multi_match\": {\"query\": \"김연지\", \"fields\": [\"text\", \"auhtor\"]}}\n",
    "s = s.query(\"multi_match\", query='김연지', fields=['text', 'author'])\n",
    "print(s.to_dict())\n",
    "response = s.execute()\n",
    "print('MultiMatch로 조회 결과', response)"
   ]
  }
 ],
 "metadata": {
  "kernelspec": {
   "display_name": "ST",
   "language": "python",
   "name": "st"
  },
  "language_info": {
   "codemirror_mode": {
    "name": "ipython",
    "version": 3
   },
   "file_extension": ".py",
   "mimetype": "text/x-python",
   "name": "python",
   "nbconvert_exporter": "python",
   "pygments_lexer": "ipython3",
   "version": "3.12.4"
  }
 },
 "nbformat": 4,
 "nbformat_minor": 5
}
